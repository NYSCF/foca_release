{
 "cells": [
  {
   "cell_type": "markdown",
   "id": "74dc5c56-c490-4229-a987-4d6416e208a4",
   "metadata": {},
   "source": [
    "# Model Training Demo"
   ]
  },
  {
   "cell_type": "code",
   "execution_count": null,
   "id": "6b78c8d1-642c-41da-8fe3-6d1bd8e4ece5",
   "metadata": {},
   "outputs": [],
   "source": []
  }
 ],
 "metadata": {
  "kernelspec": {
   "display_name": "Python 3 (ipykernel)",
   "language": "python",
   "name": "python3"
  },
  "language_info": {
   "codemirror_mode": {
    "name": "ipython",
    "version": 3
   },
   "file_extension": ".py",
   "mimetype": "text/x-python",
   "name": "python",
   "nbconvert_exporter": "python",
   "pygments_lexer": "ipython3",
   "version": "3.10.11"
  }
 },
 "nbformat": 4,
 "nbformat_minor": 5
}
